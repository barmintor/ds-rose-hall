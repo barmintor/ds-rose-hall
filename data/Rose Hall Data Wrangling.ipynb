{
 "cells": [
  {
   "cell_type": "code",
   "execution_count": 1,
   "id": "fc4afe4f",
   "metadata": {},
   "outputs": [
    {
     "data": {
      "text/plain": [
       "'0.24.2'"
      ]
     },
     "execution_count": 1,
     "metadata": {},
     "output_type": "execute_result"
    }
   ],
   "source": [
    "import pandas as pd\n",
    "import re\n",
    "import numpy as np\n",
    "pd.__version__"
   ]
  },
  {
   "cell_type": "code",
   "execution_count": 2,
   "id": "4f3b267c",
   "metadata": {},
   "outputs": [
    {
     "name": "stdout",
     "output_type": "stream",
     "text": [
      "3.6.8\n"
     ]
    }
   ],
   "source": [
    "from platform import python_version\n",
    "\n",
    "print(python_version())"
   ]
  },
  {
   "cell_type": "code",
   "execution_count": 2,
   "id": "901e653f",
   "metadata": {},
   "outputs": [
    {
     "ename": "ImportError",
     "evalue": "Install xlrd >= 1.0.0 for Excel support",
     "output_type": "error",
     "traceback": [
      "\u001b[0;31m---------------------------------------------------------------------------\u001b[0m",
      "\u001b[0;31mModuleNotFoundError\u001b[0m                       Traceback (most recent call last)",
      "\u001b[0;32m/Library/Frameworks/Python.framework/Versions/3.6/lib/python3.6/site-packages/pandas/io/excel.py\u001b[0m in \u001b[0;36m__init__\u001b[0;34m(self, filepath_or_buffer)\u001b[0m\n\u001b[1;32m    390\u001b[0m         \u001b[0;32mtry\u001b[0m\u001b[0;34m:\u001b[0m\u001b[0;34m\u001b[0m\u001b[0;34m\u001b[0m\u001b[0m\n\u001b[0;32m--> 391\u001b[0;31m             \u001b[0;32mimport\u001b[0m \u001b[0mxlrd\u001b[0m\u001b[0;34m\u001b[0m\u001b[0;34m\u001b[0m\u001b[0m\n\u001b[0m\u001b[1;32m    392\u001b[0m         \u001b[0;32mexcept\u001b[0m \u001b[0mImportError\u001b[0m\u001b[0;34m:\u001b[0m\u001b[0;34m\u001b[0m\u001b[0;34m\u001b[0m\u001b[0m\n",
      "\u001b[0;31mModuleNotFoundError\u001b[0m: No module named 'xlrd'",
      "\nDuring handling of the above exception, another exception occurred:\n",
      "\u001b[0;31mImportError\u001b[0m                               Traceback (most recent call last)",
      "\u001b[0;32m<ipython-input-2-be8f0d480669>\u001b[0m in \u001b[0;36m<module>\u001b[0;34m\u001b[0m\n\u001b[1;32m      4\u001b[0m df = pd.read_excel(\n\u001b[1;32m      5\u001b[0m     \u001b[0;34m\"Comprehensive List of Enslaved People at Rose Hall Estate, 1817-1832.xlsx\"\u001b[0m\u001b[0;34m,\u001b[0m\u001b[0;34m\u001b[0m\u001b[0;34m\u001b[0m\u001b[0m\n\u001b[0;32m----> 6\u001b[0;31m     na_values=na_values)\n\u001b[0m\u001b[1;32m      7\u001b[0m \u001b[0;31m# create a new list of column names that are easier to type\u001b[0m\u001b[0;34m\u001b[0m\u001b[0;34m\u001b[0m\u001b[0;34m\u001b[0m\u001b[0m\n\u001b[1;32m      8\u001b[0m column_mapping = {\n",
      "\u001b[0;32m/Library/Frameworks/Python.framework/Versions/3.6/lib/python3.6/site-packages/pandas/util/_decorators.py\u001b[0m in \u001b[0;36mwrapper\u001b[0;34m(*args, **kwargs)\u001b[0m\n\u001b[1;32m    186\u001b[0m                 \u001b[0;32melse\u001b[0m\u001b[0;34m:\u001b[0m\u001b[0;34m\u001b[0m\u001b[0;34m\u001b[0m\u001b[0m\n\u001b[1;32m    187\u001b[0m                     \u001b[0mkwargs\u001b[0m\u001b[0;34m[\u001b[0m\u001b[0mnew_arg_name\u001b[0m\u001b[0;34m]\u001b[0m \u001b[0;34m=\u001b[0m \u001b[0mnew_arg_value\u001b[0m\u001b[0;34m\u001b[0m\u001b[0;34m\u001b[0m\u001b[0m\n\u001b[0;32m--> 188\u001b[0;31m             \u001b[0;32mreturn\u001b[0m \u001b[0mfunc\u001b[0m\u001b[0;34m(\u001b[0m\u001b[0;34m*\u001b[0m\u001b[0margs\u001b[0m\u001b[0;34m,\u001b[0m \u001b[0;34m**\u001b[0m\u001b[0mkwargs\u001b[0m\u001b[0;34m)\u001b[0m\u001b[0;34m\u001b[0m\u001b[0;34m\u001b[0m\u001b[0m\n\u001b[0m\u001b[1;32m    189\u001b[0m         \u001b[0;32mreturn\u001b[0m \u001b[0mwrapper\u001b[0m\u001b[0;34m\u001b[0m\u001b[0;34m\u001b[0m\u001b[0m\n\u001b[1;32m    190\u001b[0m     \u001b[0;32mreturn\u001b[0m \u001b[0m_deprecate_kwarg\u001b[0m\u001b[0;34m\u001b[0m\u001b[0;34m\u001b[0m\u001b[0m\n",
      "\u001b[0;32m/Library/Frameworks/Python.framework/Versions/3.6/lib/python3.6/site-packages/pandas/util/_decorators.py\u001b[0m in \u001b[0;36mwrapper\u001b[0;34m(*args, **kwargs)\u001b[0m\n\u001b[1;32m    186\u001b[0m                 \u001b[0;32melse\u001b[0m\u001b[0;34m:\u001b[0m\u001b[0;34m\u001b[0m\u001b[0;34m\u001b[0m\u001b[0m\n\u001b[1;32m    187\u001b[0m                     \u001b[0mkwargs\u001b[0m\u001b[0;34m[\u001b[0m\u001b[0mnew_arg_name\u001b[0m\u001b[0;34m]\u001b[0m \u001b[0;34m=\u001b[0m \u001b[0mnew_arg_value\u001b[0m\u001b[0;34m\u001b[0m\u001b[0;34m\u001b[0m\u001b[0m\n\u001b[0;32m--> 188\u001b[0;31m             \u001b[0;32mreturn\u001b[0m \u001b[0mfunc\u001b[0m\u001b[0;34m(\u001b[0m\u001b[0;34m*\u001b[0m\u001b[0margs\u001b[0m\u001b[0;34m,\u001b[0m \u001b[0;34m**\u001b[0m\u001b[0mkwargs\u001b[0m\u001b[0;34m)\u001b[0m\u001b[0;34m\u001b[0m\u001b[0;34m\u001b[0m\u001b[0m\n\u001b[0m\u001b[1;32m    189\u001b[0m         \u001b[0;32mreturn\u001b[0m \u001b[0mwrapper\u001b[0m\u001b[0;34m\u001b[0m\u001b[0;34m\u001b[0m\u001b[0m\n\u001b[1;32m    190\u001b[0m     \u001b[0;32mreturn\u001b[0m \u001b[0m_deprecate_kwarg\u001b[0m\u001b[0;34m\u001b[0m\u001b[0;34m\u001b[0m\u001b[0m\n",
      "\u001b[0;32m/Library/Frameworks/Python.framework/Versions/3.6/lib/python3.6/site-packages/pandas/io/excel.py\u001b[0m in \u001b[0;36mread_excel\u001b[0;34m(io, sheet_name, header, names, index_col, parse_cols, usecols, squeeze, dtype, engine, converters, true_values, false_values, skiprows, nrows, na_values, keep_default_na, verbose, parse_dates, date_parser, thousands, comment, skip_footer, skipfooter, convert_float, mangle_dupe_cols, **kwds)\u001b[0m\n\u001b[1;32m    348\u001b[0m \u001b[0;34m\u001b[0m\u001b[0m\n\u001b[1;32m    349\u001b[0m     \u001b[0;32mif\u001b[0m \u001b[0;32mnot\u001b[0m \u001b[0misinstance\u001b[0m\u001b[0;34m(\u001b[0m\u001b[0mio\u001b[0m\u001b[0;34m,\u001b[0m \u001b[0mExcelFile\u001b[0m\u001b[0;34m)\u001b[0m\u001b[0;34m:\u001b[0m\u001b[0;34m\u001b[0m\u001b[0;34m\u001b[0m\u001b[0m\n\u001b[0;32m--> 350\u001b[0;31m         \u001b[0mio\u001b[0m \u001b[0;34m=\u001b[0m \u001b[0mExcelFile\u001b[0m\u001b[0;34m(\u001b[0m\u001b[0mio\u001b[0m\u001b[0;34m,\u001b[0m \u001b[0mengine\u001b[0m\u001b[0;34m=\u001b[0m\u001b[0mengine\u001b[0m\u001b[0;34m)\u001b[0m\u001b[0;34m\u001b[0m\u001b[0;34m\u001b[0m\u001b[0m\n\u001b[0m\u001b[1;32m    351\u001b[0m \u001b[0;34m\u001b[0m\u001b[0m\n\u001b[1;32m    352\u001b[0m     return io.parse(\n",
      "\u001b[0;32m/Library/Frameworks/Python.framework/Versions/3.6/lib/python3.6/site-packages/pandas/io/excel.py\u001b[0m in \u001b[0;36m__init__\u001b[0;34m(self, io, engine)\u001b[0m\n\u001b[1;32m    651\u001b[0m         \u001b[0mself\u001b[0m\u001b[0;34m.\u001b[0m\u001b[0m_io\u001b[0m \u001b[0;34m=\u001b[0m \u001b[0m_stringify_path\u001b[0m\u001b[0;34m(\u001b[0m\u001b[0mio\u001b[0m\u001b[0;34m)\u001b[0m\u001b[0;34m\u001b[0m\u001b[0;34m\u001b[0m\u001b[0m\n\u001b[1;32m    652\u001b[0m \u001b[0;34m\u001b[0m\u001b[0m\n\u001b[0;32m--> 653\u001b[0;31m         \u001b[0mself\u001b[0m\u001b[0;34m.\u001b[0m\u001b[0m_reader\u001b[0m \u001b[0;34m=\u001b[0m \u001b[0mself\u001b[0m\u001b[0;34m.\u001b[0m\u001b[0m_engines\u001b[0m\u001b[0;34m[\u001b[0m\u001b[0mengine\u001b[0m\u001b[0;34m]\u001b[0m\u001b[0;34m(\u001b[0m\u001b[0mself\u001b[0m\u001b[0;34m.\u001b[0m\u001b[0m_io\u001b[0m\u001b[0;34m)\u001b[0m\u001b[0;34m\u001b[0m\u001b[0;34m\u001b[0m\u001b[0m\n\u001b[0m\u001b[1;32m    654\u001b[0m \u001b[0;34m\u001b[0m\u001b[0m\n\u001b[1;32m    655\u001b[0m     \u001b[0;32mdef\u001b[0m \u001b[0m__fspath__\u001b[0m\u001b[0;34m(\u001b[0m\u001b[0mself\u001b[0m\u001b[0;34m)\u001b[0m\u001b[0;34m:\u001b[0m\u001b[0;34m\u001b[0m\u001b[0;34m\u001b[0m\u001b[0m\n",
      "\u001b[0;32m/Library/Frameworks/Python.framework/Versions/3.6/lib/python3.6/site-packages/pandas/io/excel.py\u001b[0m in \u001b[0;36m__init__\u001b[0;34m(self, filepath_or_buffer)\u001b[0m\n\u001b[1;32m    391\u001b[0m             \u001b[0;32mimport\u001b[0m \u001b[0mxlrd\u001b[0m\u001b[0;34m\u001b[0m\u001b[0;34m\u001b[0m\u001b[0m\n\u001b[1;32m    392\u001b[0m         \u001b[0;32mexcept\u001b[0m \u001b[0mImportError\u001b[0m\u001b[0;34m:\u001b[0m\u001b[0;34m\u001b[0m\u001b[0;34m\u001b[0m\u001b[0m\n\u001b[0;32m--> 393\u001b[0;31m             \u001b[0;32mraise\u001b[0m \u001b[0mImportError\u001b[0m\u001b[0;34m(\u001b[0m\u001b[0merr_msg\u001b[0m\u001b[0;34m)\u001b[0m\u001b[0;34m\u001b[0m\u001b[0;34m\u001b[0m\u001b[0m\n\u001b[0m\u001b[1;32m    394\u001b[0m         \u001b[0;32melse\u001b[0m\u001b[0;34m:\u001b[0m\u001b[0;34m\u001b[0m\u001b[0;34m\u001b[0m\u001b[0m\n\u001b[1;32m    395\u001b[0m             \u001b[0;32mif\u001b[0m \u001b[0mxlrd\u001b[0m\u001b[0;34m.\u001b[0m\u001b[0m__VERSION__\u001b[0m \u001b[0;34m<\u001b[0m \u001b[0mLooseVersion\u001b[0m\u001b[0;34m(\u001b[0m\u001b[0;34m\"1.0.0\"\u001b[0m\u001b[0;34m)\u001b[0m\u001b[0;34m:\u001b[0m\u001b[0;34m\u001b[0m\u001b[0;34m\u001b[0m\u001b[0m\n",
      "\u001b[0;31mImportError\u001b[0m: Install xlrd >= 1.0.0 for Excel support"
     ]
    }
   ],
   "source": [
    "# create a list of values prof. Naylor used as \"N/A\"\n",
    "na_values = [\"not_applicable\", \"not_specified\", \"--\", \" \"]\n",
    "# Read in Excel file.\n",
    "df = pd.read_excel(\n",
    "    \"Comprehensive List of Enslaved People at Rose Hall Estate, 1817-1832.xlsx\", \n",
    "    na_values=na_values)\n",
    "# create a new list of column names that are easier to type\n",
    "column_mapping = {\n",
    "    'id_for_digital_project': \"id\", \n",
    "    'name': \"name\",\n",
    "    'other_versions_of_name_in_the_records': \"nameOther\",\n",
    "    'christian_names_often_combined_with_surname_in_1832_list_in_old_st_james_book': \"christianNames\",\n",
    "    'names_of_married_women_and_surnames_for_children_listed_in_1832_list_in_old_st_james_book': \"marriedWomenChildrenSurnames\",\n",
    "    'country': \"country\", \n",
    "    'colour': \"colour\", \n",
    "    'gender': \"gender\", \n",
    "    'age_on_1817_list': \"age1817List\",\n",
    "    'familial_connections': \"family\", \n",
    "    'mother': \"mother\", \n",
    "    'id_of_mother': \"motherId\", \n",
    "    'grandmother': \"grandmother\",\n",
    "    'id_of_grandmother': \"grandmotherId\", \n",
    "    'great grandmother': \"greatGrandmother\", \n",
    "    'id_of_great_grandmother': \"greatGrandmotherId\",\n",
    "    'my_additional_comments': \"naylorComments\", \n",
    "    '_rose_hall_journal_info': \"journalInfo\",\n",
    "    'age_1817_registry': \"age1817\", \n",
    "    'age_1820_registry': \"age1820\", \n",
    "    'age_1823_registry': \"age1823\",\n",
    "    'age_1826_registry': \"age1826\", \n",
    "    'age_1829_registry': \"age1829\", \n",
    "    'age_1832_registry': \"age1832\",\n",
    "    'age_1832_list_in_old_st_james_book': \"age1832osjb\",\n",
    "    'primary_duties_and_positions_1832_list_in_old_st_james_book': \"primaryDuties\",\n",
    "    'condition_1832_list_in_old_st_james_book': \"condition\",\n",
    "    'disposition_1832_list_in_old_st_james_book': \"disposition\",\n",
    "    'valuation_1832_list_in_old_st_james_book': \"valuation\",\n",
    "    'Unnamed: 29': None, # Not needed\n",
    "    'Unnamed: 30': None,\n",
    "    'Unnamed: 31': None,\n",
    "    'Unnamed: 32': None,\n",
    "    'Unnamed: 33': None,\n",
    "    'Unnamed: 34': None,\n",
    "    'Unnamed: 35': None,\n",
    "    'Unnamed: 36': None,\n",
    "    'Unnamed: 37': None,\n",
    "    'Unnamed: 38': None,\n",
    "    'Unnamed: 39': None\n",
    "}\n",
    "columns = [c for c in column_mapping.keys() if column_mapping[c] != None]\n",
    "# Rename columns.\n",
    "df = df[columns].rename(columns=column_mapping)\n",
    "# Drop supplemental rows that include information prof. Naylor added that will break the website.\n",
    "df.drop([i for i in range(208,221)], inplace=True)"
   ]
  },
  {
   "cell_type": "code",
   "execution_count": null,
   "id": "5183d81e",
   "metadata": {},
   "outputs": [],
   "source": [
    "# Create a column for reason for leaving Rose Hall.\n",
    "# This column is a number, \"Dead,\" or \"Transported.\"\n",
    "df[\"reasonForLeaving\"] = \"\"\n",
    "# Fill Column for reason for leaving based on information in age1832osjb\n",
    "def ageDeadOrTransported(person):\n",
    "    age = person[\"age1832osjb\"]\n",
    "    if isinstance(age, int) or isinstance(age, float):\n",
    "        return age\n",
    "    else:\n",
    "        if \"Dea\" in age:\n",
    "            return \"Dead\"\n",
    "        elif \"Transported\" in age:\n",
    "            return \"Transported\"\n",
    "        elif \"(\" in age:\n",
    "            age = re.sub(r'\\(.*\\)', '', age)\n",
    "            age = re.sub(r' ', '', age)\n",
    "            return int(age)\n",
    "        elif \"1832-List at age\" in age:\n",
    "            age = age.replace(\"1832-List at age \", \"\")\n",
    "            return int(age)\n",
    "        elif \".\" in age:\n",
    "            age = age.replace(\" yr\", \"\")\n",
    "            return float(age)\n",
    "        else:\n",
    "            return np.nan\n",
    "\n",
    "df[\"reasonForLeaving\"] = df.apply(ageDeadOrTransported, axis=1)\n",
    "\n",
    "#print(pd.unique(df[\"age1832osjb\"].values))\n",
    "#print(pd.unique(df[\"reasonForLeaving\"].values))"
   ]
  },
  {
   "cell_type": "code",
   "execution_count": null,
   "id": "6bec4d7c",
   "metadata": {},
   "outputs": [],
   "source": [
    "def parseAge(value):\n",
    "    if isinstance(value, int) or isinstance(value, float):\n",
    "        return value\n",
    "    else:\n",
    "        if \"(\" in value:\n",
    "            value = re.sub(r'\\(.*\\)', '', value)\n",
    "            value = re.sub(r' ', '', value)\n",
    "\n",
    "        if value == \"2 1/2 years\":\n",
    "            return 2.5\n",
    "        elif re.search(r'^\\d+ mths$', value):\n",
    "            value = value.replace(\" mths\", \"\")\n",
    "            return int(value)/12\n",
    "        elif re.search(r'^\\d+ days', value):\n",
    "            value = value.replace(\"-Dead\", \"\")\n",
    "            value = value.replace(\" days\", \"\")\n",
    "            return int(value)/365\n",
    "        elif value == \"2 yrs and 5 mths\":\n",
    "            return 2 + 5/12\n",
    "        elif value == \"1 yr 5 mths\":\n",
    "            return 1 + 5/12\n",
    "        elif value == \"3 weeks\":\n",
    "            return 3/52\n",
    "        elif value == \"6 mths or 18 mths?\":\n",
    "            return 0.5\n",
    "        elif value == \"3 mths-Dead\":\n",
    "            return 1/4\n",
    "        elif value == \"8 mths-Dead\":\n",
    "            return 8/12\n",
    "\n",
    "        elif value == \"List-Dead at 42\":\n",
    "            return 42\n",
    "        elif \"birth listed in this 1832 slave register\" in value:\n",
    "            return np.nan\n",
    "        elif value == \"7 days-Dead\":\n",
    "            return 7/365\n",
    "        elif value == \"Dead\":\n",
    "            return np.nan\n",
    "\n",
    "        if re.search(r'^\\d+-Dead', value):\n",
    "            value = value.replace(\"-Dead\", \"\")\n",
    "            return int(value)\n",
    "        else: \n",
    "            return int(value)"
   ]
  },
  {
   "cell_type": "code",
   "execution_count": 3,
   "id": "e4ac886a",
   "metadata": {},
   "outputs": [
    {
     "ename": "NameError",
     "evalue": "name 'df' is not defined",
     "output_type": "error",
     "traceback": [
      "\u001b[0;31m---------------------------------------------------------------------------\u001b[0m",
      "\u001b[0;31mNameError\u001b[0m                                 Traceback (most recent call last)",
      "\u001b[0;32m<ipython-input-3-f7b3b51c2a11>\u001b[0m in \u001b[0;36m<module>\u001b[0;34m\u001b[0m\n\u001b[1;32m     26\u001b[0m     \u001b[0;32mreturn\u001b[0m \u001b[0;34m[\u001b[0m\u001b[0mnp\u001b[0m\u001b[0;34m.\u001b[0m\u001b[0mnan\u001b[0m\u001b[0;34m,\u001b[0m \u001b[0mnp\u001b[0m\u001b[0;34m.\u001b[0m\u001b[0mnan\u001b[0m\u001b[0;34m]\u001b[0m\u001b[0;34m\u001b[0m\u001b[0;34m\u001b[0m\u001b[0m\n\u001b[1;32m     27\u001b[0m \u001b[0;34m\u001b[0m\u001b[0m\n\u001b[0;32m---> 28\u001b[0;31m \u001b[0magesAndBirthYears\u001b[0m \u001b[0;34m=\u001b[0m \u001b[0mdf\u001b[0m\u001b[0;34m.\u001b[0m\u001b[0mapply\u001b[0m\u001b[0;34m(\u001b[0m\u001b[0mcalculateBirthYear\u001b[0m\u001b[0;34m,\u001b[0m \u001b[0maxis\u001b[0m\u001b[0;34m=\u001b[0m\u001b[0;36m1\u001b[0m\u001b[0;34m)\u001b[0m\u001b[0;34m\u001b[0m\u001b[0;34m\u001b[0m\u001b[0m\n\u001b[0m\u001b[1;32m     29\u001b[0m \u001b[0mdf\u001b[0m\u001b[0;34m[\u001b[0m\u001b[0;34m\"parsedAge\"\u001b[0m\u001b[0;34m]\u001b[0m \u001b[0;34m=\u001b[0m \u001b[0mlist\u001b[0m\u001b[0;34m(\u001b[0m\u001b[0mmap\u001b[0m\u001b[0;34m(\u001b[0m\u001b[0;32mlambda\u001b[0m \u001b[0mx\u001b[0m\u001b[0;34m:\u001b[0m \u001b[0mx\u001b[0m\u001b[0;34m[\u001b[0m\u001b[0;36m0\u001b[0m\u001b[0;34m]\u001b[0m\u001b[0;34m,\u001b[0m \u001b[0magesAndBirthYears\u001b[0m\u001b[0;34m)\u001b[0m\u001b[0;34m)\u001b[0m\u001b[0;34m\u001b[0m\u001b[0;34m\u001b[0m\u001b[0m\n\u001b[1;32m     30\u001b[0m \u001b[0mdf\u001b[0m\u001b[0;34m[\u001b[0m\u001b[0;34m\"birthYear\"\u001b[0m\u001b[0;34m]\u001b[0m \u001b[0;34m=\u001b[0m \u001b[0mlist\u001b[0m\u001b[0;34m(\u001b[0m\u001b[0mmap\u001b[0m\u001b[0;34m(\u001b[0m\u001b[0;32mlambda\u001b[0m \u001b[0mx\u001b[0m\u001b[0;34m:\u001b[0m \u001b[0mx\u001b[0m\u001b[0;34m[\u001b[0m\u001b[0;36m1\u001b[0m\u001b[0;34m]\u001b[0m\u001b[0;34m,\u001b[0m \u001b[0magesAndBirthYears\u001b[0m\u001b[0;34m)\u001b[0m\u001b[0;34m)\u001b[0m\u001b[0;34m\u001b[0m\u001b[0;34m\u001b[0m\u001b[0m\n",
      "\u001b[0;31mNameError\u001b[0m: name 'df' is not defined"
     ]
    }
   ],
   "source": [
    "# Calculate the birth year using ages.\n",
    "def calculateBirthYear(person):\n",
    "    if (\n",
    "        isinstance(person[\"age1817\"], int) or isinstance(person[\"age1817\"], float)\n",
    "        ) and not np.isnan(person[\"age1817\"]):\n",
    "        return [person[\"age1817\"], 1817 - person[\"age1817\"]]\n",
    "    elif (isinstance(person[\"age1817List\"], float) and not np.isnan(person[\"age1817List\"])):\n",
    "        return [person[\"age1817List\"], 1817 - person[\"age1817List\"]]\n",
    "    else: \n",
    "        years = [1820, 1823, 1826, 1829, 1832]\n",
    "        ages = {}\n",
    "        for year in years:\n",
    "            key = \"age\" + str(year)\n",
    "            ages[key] = parseAge(person[key])\n",
    "        for year in years:\n",
    "            key = \"age\" + str(year)\n",
    "            if (isinstance(ages[key], int) or isinstance(ages[key], float)) and not np.isnan(ages[key]):\n",
    "                return [ages[key], year - ages[key]]\n",
    "    \n",
    "        if (np.isnan(ages[\"age1832\"]) and \n",
    "            not isinstance(person[\"reasonForLeaving\"], str) and\n",
    "            not np.isnan(person[\"reasonForLeaving\"])\n",
    "           ):\n",
    "            age = parseAge(person[\"reasonForLeaving\"])\n",
    "            return [age, 1832 - age]\n",
    "    return [np.nan, np.nan]\n",
    "\n",
    "agesAndBirthYears = df.apply(calculateBirthYear, axis=1)\n",
    "df[\"parsedAge\"] = list(map(lambda x: x[0], agesAndBirthYears))\n",
    "df[\"birthYear\"] = list(map(lambda x: x[1], agesAndBirthYears)) \n",
    "\n"
   ]
  },
  {
   "cell_type": "code",
   "execution_count": null,
   "id": "22b34c03",
   "metadata": {},
   "outputs": [],
   "source": [
    "df[\"birthYear\"].hist()"
   ]
  },
  {
   "cell_type": "code",
   "execution_count": null,
   "id": "f0a34292",
   "metadata": {},
   "outputs": [],
   "source": [
    "def calculateLeavingYear(person):\n",
    "    if np.isnan(person[\"birthYear\"]):\n",
    "        return np.nan\n",
    "    \n",
    "    if person[\"reasonForLeaving\"] == \"Dead\" or person[\"reasonForLeaving\"] == \"Transported\":\n",
    "        years = [1820, 1823, 1826, 1829, 1832]\n",
    "        for year in years:\n",
    "            key = \"age\" + str(year)\n",
    "            if (isinstance(person[key], str) and \n",
    "                (\"Dea\" in person[key] or \"Transported\" in person[key])\n",
    "               ):\n",
    "                return year\n",
    "\n",
    "    return 1832\n",
    "    \n",
    "df[\"leavingYear\"] = df.apply(calculateLeavingYear, axis=1)"
   ]
  },
  {
   "cell_type": "code",
   "execution_count": null,
   "id": "5b10f0a9",
   "metadata": {},
   "outputs": [],
   "source": [
    "df[\"leavingYear\"].hist()"
   ]
  },
  {
   "cell_type": "code",
   "execution_count": 3,
   "id": "2b032863",
   "metadata": {},
   "outputs": [
    {
     "ename": "NameError",
     "evalue": "name 'df' is not defined",
     "output_type": "error",
     "traceback": [
      "\u001b[0;31m---------------------------------------------------------------------------\u001b[0m",
      "\u001b[0;31mNameError\u001b[0m                                 Traceback (most recent call last)",
      "\u001b[0;32m<ipython-input-3-c42a15b2c7cf>\u001b[0m in \u001b[0;36m<module>\u001b[0;34m\u001b[0m\n\u001b[0;32m----> 1\u001b[0;31m \u001b[0mdf\u001b[0m\u001b[0;34m.\u001b[0m\u001b[0mhead\u001b[0m\u001b[0;34m(\u001b[0m\u001b[0;34m)\u001b[0m\u001b[0;34m\u001b[0m\u001b[0;34m\u001b[0m\u001b[0m\n\u001b[0m",
      "\u001b[0;31mNameError\u001b[0m: name 'df' is not defined"
     ]
    }
   ],
   "source": [
    "df.head()\n"
   ]
  },
  {
   "cell_type": "code",
   "execution_count": null,
   "id": "85393a67",
   "metadata": {},
   "outputs": [],
   "source": []
  }
 ],
 "metadata": {
  "kernelspec": {
   "display_name": "Python 3",
   "language": "python",
   "name": "python3"
  },
  "language_info": {
   "codemirror_mode": {
    "name": "ipython",
    "version": 3
   },
   "file_extension": ".py",
   "mimetype": "text/x-python",
   "name": "python",
   "nbconvert_exporter": "python",
   "pygments_lexer": "ipython3",
   "version": "3.6.8"
  }
 },
 "nbformat": 4,
 "nbformat_minor": 5
}
