{
 "cells": [
  {
   "cell_type": "code",
   "execution_count": 1,
   "id": "fc4afe4f",
   "metadata": {},
   "outputs": [
    {
     "data": {
      "text/plain": [
       "'0.24.2'"
      ]
     },
     "execution_count": 1,
     "metadata": {},
     "output_type": "execute_result"
    }
   ],
   "source": [
    "import pandas as pd\n",
    "import re\n",
    "import numpy as np\n",
    "pd.__version__"
   ]
  },
  {
   "cell_type": "code",
   "execution_count": 2,
   "id": "4f3b267c",
   "metadata": {},
   "outputs": [
    {
     "name": "stdout",
     "output_type": "stream",
     "text": [
      "3.6.8\n"
     ]
    }
   ],
   "source": [
    "from platform import python_version\n",
    "\n",
    "print(python_version())"
   ]
  },
  {
   "cell_type": "code",
   "execution_count": 7,
   "id": "70a7e258",
   "metadata": {},
   "outputs": [],
   "source": [
    "# create a list of values prof. Naylor used as \"N/A\"\n",
    "na_values = [\"not_applicable\", \"not_specified\", \"--\", \" \"]\n",
    "# Read in Excel file.\n",
    "df = pd.read_excel(\n",
    "    \"Comprehensive List of Enslaved People at Rose Hall Estate, 1817-1832.xlsx\", \n",
    "    na_values=na_values)\n",
    "# create a new list of column names that are easier to type\n",
    "column_mapping = {\n",
    "    'id_for_digital_project': \"id\", \n",
    "    'name': \"name\",\n",
    "    'other_versions_of_name_in_the_records': \"nameOther\",\n",
    "    'christian_names_often_combined_with_surname_in_1832_list_in_old_st_james_book': \"christianNames\",\n",
    "    'names_of_married_women_and_surnames_for_children_listed_in_1832_list_in_old_st_james_book': \"marriedWomenChildrenSurnames\",\n",
    "    'country': \"country\", \n",
    "    'colour': \"colour\", \n",
    "    'gender': \"gender\", \n",
    "    'age_on_1817_list': \"age1817List\",\n",
    "    'familial_connections': \"family\", \n",
    "    'mother': \"mother\", \n",
    "    'id_of_mother': \"motherId\", \n",
    "    'grandmother': \"grandmother\",\n",
    "    'id_of_grandmother': \"grandmotherId\", \n",
    "    'great grandmother': \"greatGrandmother\", \n",
    "    'id_of_great_grandmother': \"greatGrandmotherId\",\n",
    "    'my_additional_comments': \"naylorComments\", \n",
    "    '_rose_hall_journal_info': \"journalInfo\",\n",
    "    'age_1817_registry': \"age1817\", \n",
    "    'age_1820_registry': \"age1820\", \n",
    "    'age_1823_registry': \"age1823\",\n",
    "    'age_1826_registry': \"age1826\", \n",
    "    'age_1829_registry': \"age1829\", \n",
    "    'age_1832_registry': \"age1832\",\n",
    "    'age_1832_list_in_old_st_james_book': \"age1832osjb\",\n",
    "    'primary_duties_and_positions_1832_list_in_old_st_james_book': \"primaryDuties\",\n",
    "    'condition_1832_list_in_old_st_james_book': \"condition\",\n",
    "    'disposition_1832_list_in_old_st_james_book': \"disposition\",\n",
    "    'valuation_1832_list_in_old_st_james_book': \"valuation\",\n",
    "    'Unnamed: 29': None, # Not needed\n",
    "    'Unnamed: 30': None,\n",
    "    'Unnamed: 31': None,\n",
    "    'Unnamed: 32': None,\n",
    "    'Unnamed: 33': None,\n",
    "    'Unnamed: 34': None,\n",
    "    'Unnamed: 35': None,\n",
    "    'Unnamed: 36': None,\n",
    "    'Unnamed: 37': None,\n",
    "    'Unnamed: 38': None,\n",
    "    'Unnamed: 39': None\n",
    "}\n",
    "columns = [c for c in column_mapping.keys() if column_mapping[c] != None]\n",
    "# Rename columns.\n",
    "df = df[columns].rename(columns=column_mapping)\n",
    "# Drop supplemental rows that include information prof. Naylor added that will break the website.\n",
    "df.drop([i for i in range(208,221)], inplace=True)"
   ]
  },
  {
   "cell_type": "code",
   "execution_count": 8,
   "id": "e5ef39f3",
   "metadata": {},
   "outputs": [],
   "source": [
    "# Create a column for reason for leaving Rose Hall.\n",
    "# This column is a number, \"Dead,\" or \"Transported.\"\n",
    "df[\"reasonForLeaving\"] = \"\"\n",
    "# Fill Column for reason for leaving based on information in age1832osjb\n",
    "def ageDeadOrTransported(person):\n",
    "    age = person[\"age1832osjb\"]\n",
    "    if isinstance(age, int) or isinstance(age, float):\n",
    "        return age\n",
    "    else:\n",
    "        if \"Dea\" in age:\n",
    "            return \"Dead\"\n",
    "        elif \"Transported\" in age:\n",
    "            return \"Transported\"\n",
    "        elif \"(\" in age:\n",
    "            age = re.sub(r'\\(.*\\)', '', age)\n",
    "            age = re.sub(r' ', '', age)\n",
    "            return int(age)\n",
    "        elif \"1832-List at age\" in age:\n",
    "            age = age.replace(\"1832-List at age \", \"\")\n",
    "            return int(age)\n",
    "        elif \".\" in age:\n",
    "            age = age.replace(\" yr\", \"\")\n",
    "            return float(age)\n",
    "        else:\n",
    "            return np.nan\n",
    "\n",
    "df[\"reasonForLeaving\"] = df.apply(ageDeadOrTransported, axis=1)\n",
    "\n",
    "#print(pd.unique(df[\"age1832osjb\"].values))\n",
    "#print(pd.unique(df[\"reasonForLeaving\"].values))"
   ]
  },
  {
   "cell_type": "code",
   "execution_count": 9,
   "id": "308ee749",
   "metadata": {},
   "outputs": [],
   "source": [
    "def parseAge(value):\n",
    "    if isinstance(value, int) or isinstance(value, float):\n",
    "        return value\n",
    "    else:\n",
    "        if \"(\" in value:\n",
    "            value = re.sub(r'\\(.*\\)', '', value)\n",
    "            value = re.sub(r' ', '', value)\n",
    "\n",
    "        if value == \"2 1/2 years\":\n",
    "            return 2.5\n",
    "        elif re.search(r'^\\d+ mths$', value):\n",
    "            value = value.replace(\" mths\", \"\")\n",
    "            return int(value)/12\n",
    "        elif re.search(r'^\\d+ days', value):\n",
    "            value = value.replace(\"-Dead\", \"\")\n",
    "            value = value.replace(\" days\", \"\")\n",
    "            return int(value)/365\n",
    "        elif value == \"2 yrs and 5 mths\":\n",
    "            return 2 + 5/12\n",
    "        elif value == \"1 yr 5 mths\":\n",
    "            return 1 + 5/12\n",
    "        elif value == \"3 weeks\":\n",
    "            return 3/52\n",
    "        elif value == \"6 mths or 18 mths?\":\n",
    "            return 0.5\n",
    "        elif value == \"3 mths-Dead\":\n",
    "            return 1/4\n",
    "        elif value == \"8 mths-Dead\":\n",
    "            return 8/12\n",
    "\n",
    "        elif value == \"List-Dead at 42\":\n",
    "            return 42\n",
    "        elif \"birth listed in this 1832 slave register\" in value:\n",
    "            return np.nan\n",
    "        elif value == \"7 days-Dead\":\n",
    "            return 7/365\n",
    "        elif value == \"Dead\":\n",
    "            return np.nan\n",
    "\n",
    "        if re.search(r'^\\d+-Dead', value):\n",
    "            value = value.replace(\"-Dead\", \"\")\n",
    "            return int(value)\n",
    "        else: \n",
    "            return int(value)"
   ]
  },
  {
   "cell_type": "code",
   "execution_count": 10,
   "id": "8b19cdf9",
   "metadata": {},
   "outputs": [],
   "source": [
    "# Calculate the birth year using ages.\n",
    "def calculateBirthYear(person):\n",
    "    if (\n",
    "        isinstance(person[\"age1817\"], int) or isinstance(person[\"age1817\"], float)\n",
    "        ) and not np.isnan(person[\"age1817\"]):\n",
    "        return [person[\"age1817\"], 1817 - person[\"age1817\"]]\n",
    "    elif (isinstance(person[\"age1817List\"], float) and not np.isnan(person[\"age1817List\"])):\n",
    "        return [person[\"age1817List\"], 1817 - person[\"age1817List\"]]\n",
    "    else: \n",
    "        years = [1820, 1823, 1826, 1829, 1832]\n",
    "        ages = {}\n",
    "        for year in years:\n",
    "            key = \"age\" + str(year)\n",
    "            ages[key] = parseAge(person[key])\n",
    "        for year in years:\n",
    "            key = \"age\" + str(year)\n",
    "            if (isinstance(ages[key], int) or isinstance(ages[key], float)) and not np.isnan(ages[key]):\n",
    "                return [ages[key], year - ages[key]]\n",
    "    \n",
    "        if (np.isnan(ages[\"age1832\"]) and \n",
    "            not isinstance(person[\"reasonForLeaving\"], str) and\n",
    "            not np.isnan(person[\"reasonForLeaving\"])\n",
    "           ):\n",
    "            age = parseAge(person[\"reasonForLeaving\"])\n",
    "            return [age, 1832 - age]\n",
    "    return [np.nan, np.nan]\n",
    "\n",
    "agesAndBirthYears = df.apply(calculateBirthYear, axis=1)\n",
    "df[\"parsedAge\"] = list(map(lambda x: x[0], agesAndBirthYears))\n",
    "df[\"birthYear\"] = list(map(lambda x: x[1], agesAndBirthYears)) \n",
    "\n"
   ]
  },
  {
   "cell_type": "code",
   "execution_count": 11,
   "id": "ab3fbcb9",
   "metadata": {},
   "outputs": [
    {
     "data": {
      "text/plain": [
       "<AxesSubplot:>"
      ]
     },
     "execution_count": 11,
     "metadata": {},
     "output_type": "execute_result"
    },
    {
     "data": {
      "image/png": "[encoded data removed]",
      "text/plain": [
       "<Figure size 432x288 with 1 Axes>"
      ]
     },
     "metadata": {
      "needs_background": "light"
     },
     "output_type": "display_data"
    }
   ],
   "source": [
    "df[\"birthYear\"].hist()"
   ]
  },
  {
   "cell_type": "code",
   "execution_count": 12,
   "id": "2b9fe96c",
   "metadata": {},
   "outputs": [],
   "source": [
    "def calculateLeavingYear(person):\n",
    "    if np.isnan(person[\"birthYear\"]):\n",
    "        return np.nan\n",
    "    \n",
    "    if person[\"reasonForLeaving\"] == \"Dead\" or person[\"reasonForLeaving\"] == \"Transported\":\n",
    "        years = [1820, 1823, 1826, 1829, 1832]\n",
    "        for year in years:\n",
    "            key = \"age\" + str(year)\n",
    "            if (isinstance(person[key], str) and \n",
    "                (\"Dea\" in person[key] or \"Transported\" in person[key])\n",
    "               ):\n",
    "                return year\n",
    "\n",
    "    return 1832\n",
    "    \n",
    "df[\"leavingYear\"] = df.apply(calculateLeavingYear, axis=1)"
   ]
  },
  {
   "cell_type": "code",
   "execution_count": 13,
   "id": "dbbf5c86",
   "metadata": {},
   "outputs": [
    {
     "data": {
      "text/plain": [
       "<AxesSubplot:>"
      ]
     },
     "execution_count": 13,
     "metadata": {},
     "output_type": "execute_result"
    },
    {
     "data": {
      "image/png": "[encoded data removed]",
      "text/plain": [
       "<Figure size 432x288 with 1 Axes>"
      ]
     },
     "metadata": {
      "needs_background": "light"
     },
     "output_type": "display_data"
    }
   ],
   "source": [
    "df[\"leavingYear\"].hist()"
   ]
  }
 ],
 "metadata": {
  "kernelspec": {
   "display_name": "Python 3",
   "language": "python",
   "name": "python3"
  },
  "language_info": {
   "codemirror_mode": {
    "name": "ipython",
    "version": 3
   },
   "file_extension": ".py",
   "mimetype": "text/x-python",
   "name": "python",
   "nbconvert_exporter": "python",
   "pygments_lexer": "ipython3",
   "version": "3.6.8"
  }
 },
 "nbformat": 4,
 "nbformat_minor": 5
}
