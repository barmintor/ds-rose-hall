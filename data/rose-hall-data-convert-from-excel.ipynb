{
  "cells": [
    {
      "cell_type": "markdown",
      "metadata": {
        "id": "view-in-github",
        "colab_type": "text"
      },
      "source": [
        "<a href=\"https://colab.research.google.com/github/muziejus/rose-hall/blob/main/data/rose-hall-data-convert-from-excel.ipynb\" target=\"_parent\"><img src=\"https://colab.research.google.com/assets/colab-badge.svg\" alt=\"Open In Colab\"/></a>"
      ]
    },
    {
      "cell_type": "code",
      "execution_count": 9,
      "id": "fc4afe4f",
      "metadata": {
        "id": "fc4afe4f"
      },
      "outputs": [],
      "source": [
        "import pandas as pd"
      ]
    },
    {
      "cell_type": "code",
      "execution_count": 8,
      "id": "70a7e258",
      "metadata": {
        "id": "70a7e258"
      },
      "outputs": [],
      "source": [
        "file_url = \"https://github.com/muziejus/rose-hall/blob/main/data/Comprehensive%20List%20of%20Enslaved%20People%20at%20Rose%20Hall%20Estate,%201817-1832.xlsx?raw=true\"\n",
        "# create a list of values prof. Naylor used as \"N/A\"\n",
        "na_values = [\"not_applicable\", \"not_specified\", \"--\", \" \"]\n",
        "# Read in Excel file.\n",
        "df = pd.read_excel(\n",
        "    file_url, \n",
        "    na_values=na_values)\n",
        "# create a new list of column names that are easier to type\n",
        "column_mapping = {\n",
        "    'personId': \"personId\", \n",
        "    'name': \"name\",\n",
        "    'otherNames': \"otherNames\",\n",
        "    'christianNames': \"christianNames\",\n",
        "    'familyNames': \"familyNames\",\n",
        "    'country': \"country\", \n",
        "    'color': \"color\", \n",
        "    'gender': \"gender\", \n",
        "    'age1817List': \"age1817List\",\n",
        "    'familyNotes': \"familyNotes\", \n",
        "    'mother': \"mother\", \n",
        "    'motherId': \"motherId\", \n",
        "    'grandmother': \"grandmother\",\n",
        "    'grandmotherId': \"grandmotherId\", \n",
        "    'greatgrandmother': \"greatgrandmother\", \n",
        "    'greatgrandmotherId': \"greatgrandmotherId\",\n",
        "    'comments': \"comments\", \n",
        "    'journalInfo': \"journalInfo\",\n",
        "    'age1817': \"age1817\", \n",
        "    'age1820': \"age1820\", \n",
        "    'age1823': \"age1823\",\n",
        "    'age1826': \"age1826\", \n",
        "    'age1829': \"age1829\", \n",
        "    'age1832': \"age1832\",\n",
        "    'age1832List': \"age1832List\",\n",
        "    'duties': \"duties\",\n",
        "    'condition': \"condition\",\n",
        "    'disposition': \"disposition\",\n",
        "    'valuation': \"valuation\",\n",
        "    'birthYear': \"birthYear\",\n",
        "    'arrivalYear': \"arrivalYear\",\n",
        "    'exitYear': \"exitYear\",\n",
        "    'ageAtExit': \"ageAtExit\",\n",
        "    'calcAgeDiff': None,\n",
        "    'arrivalReason': \"arrivalReason\",\n",
        "    'exitReason': \"exitReason\",\n",
        "    'dob': \"dob\",\n",
        "    'dod': \"dod\",\n",
        "    'Unnamed: 29': None, # Not needed\n",
        "    'Unnamed: 30': None,\n",
        "    'Unnamed: 31': None,\n",
        "    'Unnamed: 32': None,\n",
        "    'Unnamed: 33': None,\n",
        "    'Unnamed: 34': None,\n",
        "    'Unnamed: 35': None,\n",
        "    'Unnamed: 36': None,\n",
        "    'Unnamed: 37': None,\n",
        "    'Unnamed: 38': None,\n",
        "    'Unnamed: 39': None\n",
        "}\n",
        "columns = [c for c in column_mapping.keys() if column_mapping[c] != None]\n",
        "# Rename columns.\n",
        "df = df[columns].rename(columns=column_mapping)\n",
        "# Drop supplemental rows that include information prof. Naylor added that will break the website.\n",
        "df.drop([i for i in range(208,221)], inplace=True)"
      ]
    },
    {
      "cell_type": "code",
      "execution_count": null,
      "id": "e5ef39f3",
      "metadata": {
        "id": "e5ef39f3"
      },
      "outputs": [],
      "source": [
        "# # Create a column for reason for leaving Rose Hall.\n",
        "# # This column is a number, \"Dead,\" or \"Transported.\"\n",
        "# df[\"reasonForLeaving\"] = \"\"\n",
        "# # Fill Column for reason for leaving based on information in age1832osjb\n",
        "# def ageDeadOrTransported(person):\n",
        "#     age = person[\"age1832osjb\"]\n",
        "#     if isinstance(age, int) or isinstance(age, float):\n",
        "#         return age\n",
        "#     else:\n",
        "#         if \"Dea\" in age:\n",
        "#             return \"Dead\"\n",
        "#         elif \"Transported\" in age:\n",
        "#             return \"Transported\"\n",
        "#         elif \"(\" in age:\n",
        "#             age = re.sub(r'\\(.*\\)', '', age)\n",
        "#             age = re.sub(r' ', '', age)\n",
        "#             return int(age)\n",
        "#         elif \"1832-List at age\" in age:\n",
        "#             age = age.replace(\"1832-List at age \", \"\")\n",
        "#             return int(age)\n",
        "#         elif \".\" in age:\n",
        "#             age = age.replace(\" yr\", \"\")\n",
        "#             return float(age)\n",
        "#         else:\n",
        "#             return np.nan\n",
        "\n",
        "# df[\"reasonForLeaving\"] = df.apply(ageDeadOrTransported, axis=1)"
      ]
    },
    {
      "cell_type": "code",
      "execution_count": null,
      "id": "308ee749",
      "metadata": {
        "id": "308ee749"
      },
      "outputs": [],
      "source": [
        "# def parseAge(value):\n",
        "#     if isinstance(value, int) or isinstance(value, float):\n",
        "#         return value\n",
        "#     else:\n",
        "#         if \"(\" in value:\n",
        "#             value = re.sub(r'\\(.*\\)', '', value)\n",
        "#             value = re.sub(r' ', '', value)\n",
        "\n",
        "#         if value == \"2 1/2 years\":\n",
        "#             return 2.5\n",
        "#         elif re.search(r'^\\d+ mths$', value):\n",
        "#             value = value.replace(\" mths\", \"\")\n",
        "#             return int(value)/12\n",
        "#         elif re.search(r'^\\d+ days', value):\n",
        "#             value = value.replace(\"-Dead\", \"\")\n",
        "#             value = value.replace(\" days\", \"\")\n",
        "#             return int(value)/365\n",
        "#         elif value == \"2 yrs and 5 mths\":\n",
        "#             return 2 + 5/12\n",
        "#         elif value == \"1 yr 5 mths\":\n",
        "#             return 1 + 5/12\n",
        "#         elif value == \"3 weeks\":\n",
        "#             return 3/52\n",
        "#         elif value == \"6 mths or 18 mths?\":\n",
        "#             return 0.5\n",
        "#         elif value == \"3 mths-Dead\":\n",
        "#             return 1/4\n",
        "#         elif value == \"8 mths-Dead\":\n",
        "#             return 8/12\n",
        "\n",
        "#         elif value == \"List-Dead at 42\":\n",
        "#             return 42\n",
        "#         elif \"birth listed in this 1832 slave register\" in value:\n",
        "#             return np.nan\n",
        "#         elif value == \"7 days-Dead\":\n",
        "#             return 7/365\n",
        "#         elif value == \"Dead\":\n",
        "#             return np.nan\n",
        "\n",
        "#         if re.search(r'^\\d+-Dead', value):\n",
        "#             value = value.replace(\"-Dead\", \"\")\n",
        "#             return int(value)\n",
        "#         else: \n",
        "#             return int(value)"
      ]
    },
    {
      "cell_type": "code",
      "execution_count": null,
      "id": "8b19cdf9",
      "metadata": {
        "id": "8b19cdf9"
      },
      "outputs": [],
      "source": [
        "# # Calculate the birth year using ages.\n",
        "# def calculateBirthYear(person):\n",
        "#     if (\n",
        "#         isinstance(person[\"age1817\"], int) or isinstance(person[\"age1817\"], float)\n",
        "#         ) and not np.isnan(person[\"age1817\"]):\n",
        "#         return [person[\"age1817\"], 1817 - person[\"age1817\"]]\n",
        "#     elif (isinstance(person[\"age1817List\"], float) and not np.isnan(person[\"age1817List\"])):\n",
        "#         return [person[\"age1817List\"], 1817 - person[\"age1817List\"]]\n",
        "#     else: \n",
        "#         years = [1820, 1823, 1826, 1829, 1832]\n",
        "#         ages = {}\n",
        "#         for year in years:\n",
        "#             key = \"age\" + str(year)\n",
        "#             ages[key] = parseAge(person[key])\n",
        "#         for year in years:\n",
        "#             key = \"age\" + str(year)\n",
        "#             if (isinstance(ages[key], int) or isinstance(ages[key], float)) and not np.isnan(ages[key]):\n",
        "#                 return [ages[key], year - ages[key]]\n",
        "    \n",
        "#         if (np.isnan(ages[\"age1832\"]) and \n",
        "#             not isinstance(person[\"reasonForLeaving\"], str) and\n",
        "#             not np.isnan(person[\"reasonForLeaving\"])\n",
        "#            ):\n",
        "#             age = parseAge(person[\"reasonForLeaving\"])\n",
        "#             return [age, 1832 - age]\n",
        "#     return [np.nan, np.nan]\n",
        "\n",
        "# agesAndBirthYears = df.apply(calculateBirthYear, axis=1)\n",
        "# df[\"parsedAge\"] = list(map(lambda x: x[0], agesAndBirthYears))\n",
        "# df[\"birthYear\"] = list(map(lambda x: x[1], agesAndBirthYears)) \n",
        "\n"
      ]
    },
    {
      "cell_type": "code",
      "execution_count": null,
      "id": "2b9fe96c",
      "metadata": {
        "id": "2b9fe96c"
      },
      "outputs": [],
      "source": [
        "# def calculateLeavingYear(person):\n",
        "#     if np.isnan(person[\"birthYear\"]):\n",
        "#         return np.nan\n",
        "    \n",
        "#     if person[\"reasonForLeaving\"] == \"Dead\" or person[\"reasonForLeaving\"] == \"Transported\":\n",
        "#         years = [1820, 1823, 1826, 1829, 1832]\n",
        "#         for year in years:\n",
        "#             key = \"age\" + str(year)\n",
        "#             if (isinstance(person[key], str) and \n",
        "#                 (\"Dea\" in person[key] or \"Transported\" in person[key])\n",
        "#                ):\n",
        "#                 return year\n",
        "\n",
        "#     return 1832\n",
        "    \n",
        "# df[\"exitYear\"] = df.apply(calculateLeavingYear, axis=1)"
      ]
    },
    {
      "cell_type": "code",
      "source": [
        "json_string = df.to_json(orient=\"records\")\n",
        "\n",
        "output = \"export default \" + json_string + \";\"\n",
        "f = open(\"app/data/people.js\", \"w\")\n",
        "f.write(output)\n",
        "f.close()"
      ],
      "metadata": {
        "id": "2f8ctWNhREJl",
        "outputId": "06103069-c4fe-4366-9bb5-bff3ae963efa",
        "colab": {
          "base_uri": "https://localhost:8080/",
          "height": 234
        }
      },
      "id": "2f8ctWNhREJl",
      "execution_count": 11,
      "outputs": [
        {
          "output_type": "error",
          "ename": "FileNotFoundError",
          "evalue": "ignored",
          "traceback": [
            "\u001b[0;31m---------------------------------------------------------------------------\u001b[0m",
            "\u001b[0;31mFileNotFoundError\u001b[0m                         Traceback (most recent call last)",
            "\u001b[0;32m<ipython-input-11-a229af606e3f>\u001b[0m in \u001b[0;36m<module>\u001b[0;34m()\u001b[0m\n\u001b[1;32m      2\u001b[0m \u001b[0;34m\u001b[0m\u001b[0m\n\u001b[1;32m      3\u001b[0m \u001b[0moutput\u001b[0m \u001b[0;34m=\u001b[0m \u001b[0;34m\"export default \"\u001b[0m \u001b[0;34m+\u001b[0m \u001b[0mjson_string\u001b[0m \u001b[0;34m+\u001b[0m \u001b[0;34m\";\"\u001b[0m\u001b[0;34m\u001b[0m\u001b[0;34m\u001b[0m\u001b[0m\n\u001b[0;32m----> 4\u001b[0;31m \u001b[0mf\u001b[0m \u001b[0;34m=\u001b[0m \u001b[0mopen\u001b[0m\u001b[0;34m(\u001b[0m\u001b[0;34m\"app/data/people.js\"\u001b[0m\u001b[0;34m,\u001b[0m \u001b[0;34m\"w\"\u001b[0m\u001b[0;34m)\u001b[0m\u001b[0;34m\u001b[0m\u001b[0;34m\u001b[0m\u001b[0m\n\u001b[0m\u001b[1;32m      5\u001b[0m \u001b[0mf\u001b[0m\u001b[0;34m.\u001b[0m\u001b[0mwrite\u001b[0m\u001b[0;34m(\u001b[0m\u001b[0moutput\u001b[0m\u001b[0;34m)\u001b[0m\u001b[0;34m\u001b[0m\u001b[0;34m\u001b[0m\u001b[0m\n\u001b[1;32m      6\u001b[0m \u001b[0mf\u001b[0m\u001b[0;34m.\u001b[0m\u001b[0mclose\u001b[0m\u001b[0;34m(\u001b[0m\u001b[0;34m)\u001b[0m\u001b[0;34m\u001b[0m\u001b[0;34m\u001b[0m\u001b[0m\n",
            "\u001b[0;31mFileNotFoundError\u001b[0m: [Errno 2] No such file or directory: 'app/data/people.js'"
          ]
        }
      ]
    },
    {
      "cell_type": "code",
      "source": [
        ""
      ],
      "metadata": {
        "id": "Krq4PeblRmIF"
      },
      "id": "Krq4PeblRmIF",
      "execution_count": null,
      "outputs": []
    }
  ],
  "metadata": {
    "kernelspec": {
      "display_name": "Python 3",
      "language": "python",
      "name": "python3"
    },
    "language_info": {
      "codemirror_mode": {
        "name": "ipython",
        "version": 3
      },
      "file_extension": ".py",
      "mimetype": "text/x-python",
      "name": "python",
      "nbconvert_exporter": "python",
      "pygments_lexer": "ipython3",
      "version": "3.6.8"
    },
    "colab": {
      "name": "Rose Hall Data Wrangling.ipynb",
      "provenance": [],
      "include_colab_link": true
    }
  },
  "nbformat": 4,
  "nbformat_minor": 5
}