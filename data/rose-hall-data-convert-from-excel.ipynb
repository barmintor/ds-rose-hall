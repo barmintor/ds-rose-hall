{
  "cells": [
    {
      "cell_type": "markdown",
      "metadata": {
        "id": "view-in-github",
        "colab_type": "text"
      },
      "source": [
        "<a href=\"https://colab.research.google.com/github/un-silencing-slavery-at-rose-hall/project-website/blob/main/data/rose-hall-data-convert-from-excel.ipynb\" target=\"_parent\"><img src=\"https://colab.research.google.com/assets/colab-badge.svg\" alt=\"Open In Colab\"/></a>"
      ]
    },
    {
      "cell_type": "code",
      "execution_count": 1,
      "id": "fc4afe4f",
      "metadata": {
        "id": "fc4afe4f"
      },
      "outputs": [],
      "source": [
        "import pandas as pd\n",
        "from numpy import nan"
      ]
    },
    {
      "cell_type": "code",
      "execution_count": 97,
      "id": "70a7e258",
      "metadata": {
        "id": "70a7e258"
      },
      "outputs": [],
      "source": [
        "file_url = \"https://github.com/muziejus/rose-hall/blob/main/data/Comprehensive%20List%20of%20Enslaved%20People%20at%20Rose%20Hall%20Estate,%201817-1832.xlsx?raw=true\"\n",
        "# create a list of values prof. Naylor used as \"N/A\"\n",
        "na_values = [\"not_applicable\", \"not_specified\", \"--\", \" \"]\n",
        "# Read in Excel file.\n",
        "df = pd.read_excel(\n",
        "    file_url, \n",
        "    na_values=na_values)\n",
        "# create a new list of column names that are easier to type\n",
        "column_mapping = {\n",
        "    'id_for_digital_project': \"personId\",\n",
        "    'name': \"name\",\n",
        "    'other_versions_of_name_in_the_records': \"otherNames\",\n",
        "    'christian_names_often_combined_with_surname_in_1832_list_in_old_st_james_book': \"christianNames\",\n",
        "    'names_of_married_women_and_surnames_for_children_listed_in_1832_list_in_old_st_james_book': \"familyNames\",\n",
        "    'country': \"country\",\n",
        "    'colour': \"colour\",\n",
        "    'gender': \"gender\",\n",
        "    'age_on_1817_list': \"age1817List\",\n",
        "    'familial_connections': \"familyNotes\",\n",
        "    'mother': \"mother\",\n",
        "    'id_of_mother': \"motherId\",\n",
        "    'grandmother': \"grandmother\",\n",
        "    'id_of_grandmother': \"grandmotherId\",\n",
        "    'great grandmother': \"greatgrandmother\",\n",
        "    'id_of_great_grandmother': \"greatgrandmotherId\",\n",
        "    'my_additional_comments': \"comments\",\n",
        "    '_rose_hall_journal_info': \"journalInfo\",\n",
        "    'age_1817_registry': \"age1817\",\n",
        "    'age_1820_registry': \"age1820\",\n",
        "    'age_1823_registry': \"age1823\",\n",
        "    'age_1826_registry': \"age1826\",\n",
        "    'age_1829_registry': \"age1829\", \n",
        "    'age_1832_registry': \"age1832\",\n",
        "    'age_1832_list_in_old_st_james_book': \"age1832List\",\n",
        "    'primary_duties_and_positions_1832_list_in_old_st_james_book': \"duties\",\n",
        "    'condition_1832_list_in_old_st_james_book': \"condition\",\n",
        "    'disposition_1832_list_in_old_st_james_book': \"disposition\",\n",
        "    'valuation_1832_list_in_old_st_james_book': \"valuation\",\n",
        "    'display_name': \"displayName\",\n",
        "    'individual_profile': \"profile\"\n",
        "    }\n",
        "\n",
        "new_columns = [\n",
        "    \"birthYear\",\n",
        "    \"arrivalYear\",\n",
        "    \"exitYear\",\n",
        "    \"ageAtExit\",\n",
        "    \"calcAgeDiff\",\n",
        "    \"arrivalReason\",\n",
        "    \"exitReason\",\n",
        "    \"dob\",\n",
        "    \"dod\"\n",
        "    ]\n",
        "columns = [c for c in column_mapping.keys() if column_mapping[c] != None]\n",
        "# Rename columns.\n",
        "df = df[columns].rename(columns=column_mapping)\n",
        "# Drop supplemental rows that include information prof. Naylor added that will break the website.\n",
        "df.drop([i for i in range(208,221)], inplace=True)"
      ]
    },
    {
      "cell_type": "code",
      "source": [
        "for column in [\"age1820\", \"age1823\", \"age1826\", \"age1829\", \"age1832\", \"age1832List\"]:\n",
        "  df[column] = pd.Series(df[column], dtype=\"string\")\n",
        "  df[column] = df[column].fillna(\"\")"
      ],
      "metadata": {
        "id": "punLzqQS67Og"
      },
      "id": "punLzqQS67Og",
      "execution_count": 110,
      "outputs": []
    },
    {
      "cell_type": "code",
      "source": [
        "for column in [\"name\", \"country\", \"colour\", \"gender\", \"duties\", \"displayName\", \"profile\"]:\n",
        "    df[column] = df[column].str.strip()\n"
      ],
      "metadata": {
        "id": "s0X0tU6xiPzJ"
      },
      "id": "s0X0tU6xiPzJ",
      "execution_count": 111,
      "outputs": []
    },
    {
      "cell_type": "code",
      "source": [
        "def genderNan(x):\n",
        "  if x is nan:\n",
        "    return \"Unknown\"\n",
        "  else:\n",
        "    return x\n",
        "\n",
        "df[\"gender\"] = df[\"gender\"].apply(genderNan)"
      ],
      "metadata": {
        "id": "V8_qEyUNiPeH"
      },
      "id": "V8_qEyUNiPeH",
      "execution_count": 113,
      "outputs": []
    },
    {
      "cell_type": "code",
      "source": [
        "def countryNan(x):\n",
        "  if x == \"Creole/African?\":\n",
        "    return \"Inconsistent\"\n",
        "  elif x is nan:\n",
        "    return \"Unknown\"\n",
        "  else:\n",
        "    return x\n",
        "\n",
        "df[\"country\"] = df[\"country\"].apply(countryNan)"
      ],
      "metadata": {
        "id": "NhBkBL-_iPT0"
      },
      "id": "NhBkBL-_iPT0",
      "execution_count": 114,
      "outputs": []
    },
    {
      "cell_type": "code",
      "source": [
        "def colourNan(x):\n",
        "  if x == \"Negro/Sambo?\" or x == \"Sambo/Mulatto?\":\n",
        "    return \"Inconsistent\"\n",
        "  elif x is nan:\n",
        "    return \"Unknown\"\n",
        "  else:\n",
        "    return x\n",
        "\n",
        "df[\"colour\"] = df[\"colour\"].apply(colourNan)"
      ],
      "metadata": {
        "id": "bQFV99MWiPKF"
      },
      "id": "bQFV99MWiPKF",
      "execution_count": 115,
      "outputs": []
    },
    {
      "cell_type": "code",
      "source": [
        "duties_dictionary = {'At Palmyra': \"Artisans and Specialists\",\n",
        " 'Attending Small Stock': \"Animal Caretakers\",\n",
        " 'Attending Young Children': \"Domestic Workers\",\n",
        " 'Blacksmith': \"Artisans and Specialists\",\n",
        " 'Carpenter': \"Artisans and Specialists\",\n",
        " 'Cartman': \"Artisans and Specialists\",\n",
        " 'Cartman and Field': \"Artisans and Specialists\",\n",
        " 'Cattleboy': \"Animal Caretakers\",\n",
        " 'Cook for gang': \"Domestic Workers\",\n",
        " 'Cooper': \"Artisans and Specialists\",\n",
        " 'Distiller': \"Artisans and Specialists\",\n",
        " 'Distiller and Field': \"Artisans and Specialists\",\n",
        " 'Domestic': \"Domestic Workers\",\n",
        " 'Driveress': \"Field Workers\",\n",
        " 'Field': \"Field Workers\",\n",
        " 'Field and Grasscutter': \"Field Workers\",\n",
        " 'Fisherman': \"Artisans and Specialists\",\n",
        " 'G.H. Attendant': \"Domestic Workers\",\n",
        " 'Grasscutter': \"Field Workers\",\n",
        " 'Head Boiler': \"Artisans and Specialists\",\n",
        " 'Head Carpenter': \"Artisans and Specialists\",\n",
        " 'Head Cartman': \"Artisans and Specialists\",\n",
        " 'Head Cooper': \"Artisans and Specialists\",\n",
        " 'Head Driver': \"Artisans and Specialists\",\n",
        " 'Head Penkeeper': \"Animal Caretakers\",\n",
        " 'Hogmeat Gang': \"Field Workers\",\n",
        " 'Hospital': \"Artisans and Specialists\",\n",
        " 'Hospital Attendant and Midwife': \"Artisans and Specialists\",\n",
        " 'Mason': \"Artisans and Specialists\",\n",
        " 'Muleman': \"Animal Caretakers\",\n",
        " 'Not at Work': \"“Not at Work”\",\n",
        " \"Overseer's Cook\": \"Domestic Workers\",\n",
        " \"Overseer's House\": \"Domestic Workers\",\n",
        " 'Second Driver': \"Artisans and Specialists\",\n",
        " 'Washerwoman': \"Domestic Workers\",\n",
        " 'Watchman': \"Artisans and Specialists\",\n",
        " 'With Mrs. Palmer': \"Domestic Workers\",\n",
        " nan: \"Unknown\"}\n",
        "\n",
        "df['duty_category'] = df['duties'].apply(lambda x: duties_dictionary[x])"
      ],
      "metadata": {
        "id": "30BfukbWiPAv"
      },
      "id": "30BfukbWiPAv",
      "execution_count": 116,
      "outputs": []
    },
    {
      "cell_type": "code",
      "source": [
        "def numTest(value):\n",
        "  return value.replace(\".0\", \"\").isnumeric()\n",
        "\n",
        "# Parse birth year\n",
        "def arrivalYearHunter(row):\n",
        "  if row[\"age1817List\"] > 0:\n",
        "    return 1817\n",
        "  elif numTest(row[\"age1820\"]):\n",
        "    return 1820 - float(row[\"age1820\"])\n",
        "  elif numTest(row[\"age1823\"]):\n",
        "    return 1823 - float(row[\"age1823\"])\n",
        "  elif numTest(row[\"age1826\"]):\n",
        "    return 1826 - float(row[\"age1826\"])\n",
        "  elif numTest(row[\"age1829\"]):\n",
        "    return 1829 - float(row[\"age1829\"])\n",
        "  elif numTest(row[\"age1832List\"]):\n",
        "    return 1832 - float(row[\"age1832List\"])\n",
        "  else:\n",
        "    return 0"
      ],
      "metadata": {
        "id": "tRVJQXXNvVAp"
      },
      "id": "tRVJQXXNvVAp",
      "execution_count": 151,
      "outputs": []
    },
    {
      "cell_type": "code",
      "source": [
        "testdf = df\n",
        "testdf[\"arrivalYear\"] = testdf.apply(arrivalYearHunter, axis=1)"
      ],
      "metadata": {
        "id": "8uG8NEVOymNu"
      },
      "id": "8uG8NEVOymNu",
      "execution_count": 152,
      "outputs": []
    },
    {
      "cell_type": "code",
      "source": [
        "testdf[\"arrivalYear\"].value_counts()"
      ],
      "metadata": {
        "colab": {
          "base_uri": "https://localhost:8080/"
        },
        "id": "XULdJmxHzYVL",
        "outputId": "b3b8c75b-09fe-4c24-e2f4-a010a08a55ef"
      },
      "id": "XULdJmxHzYVL",
      "execution_count": 153,
      "outputs": [
        {
          "output_type": "execute_result",
          "data": {
            "text/plain": [
              "1817.0    152\n",
              "0.0        27\n",
              "1822.0      6\n",
              "1818.0      5\n",
              "1825.0      4\n",
              "1828.0      4\n",
              "1819.0      3\n",
              "1831.0      3\n",
              "1830.0      2\n",
              "1821.0      2\n",
              "Name: arrivalYear, dtype: int64"
            ]
          },
          "metadata": {},
          "execution_count": 153
        }
      ]
    },
    {
      "cell_type": "code",
      "source": [
        "testdf[\"age1826\"].value_counts()"
      ],
      "metadata": {
        "colab": {
          "base_uri": "https://localhost:8080/"
        },
        "id": "18MA0Nyd_Dln",
        "outputId": "eea58736-b5d5-4582-a8e6-4853fd657c9b"
      },
      "id": "18MA0Nyd_Dln",
      "execution_count": 149,
      "outputs": [
        {
          "output_type": "execute_result",
          "data": {
            "text/plain": [
              "                  178\n",
              "6 mths              4\n",
              "47-Dead             3\n",
              "1.0                 3\n",
              "38-Dead             2\n",
              "4-Dead              2\n",
              "10 days-Dead        1\n",
              "20-Transported      1\n",
              "46-Dead             1\n",
              "50-Dead             1\n",
              "58-Dead             1\n",
              "77-Dead             1\n",
              "57-Dead             1\n",
              "2 1/2 years         1\n",
              "77-dead             1\n",
              "9-Dead              1\n",
              "28-Dead             1\n",
              "32-Dead             1\n",
              "7 days-Dead         1\n",
              "69-Dead             1\n",
              "48-Dead             1\n",
              "49-Dead             1\n",
              "Name: age1826, dtype: Int64"
            ]
          },
          "metadata": {},
          "execution_count": 149
        }
      ]
    },
    {
      "cell_type": "code",
      "source": [
        "import time\n",
        "now = time.strftime(\"%Y-%m-%d-%H:%M\")\n",
        "df.to_csv(f\"{now}-data.csv\")"
      ],
      "metadata": {
        "id": "2GdIDVEDuIi-"
      },
      "id": "2GdIDVEDuIi-",
      "execution_count": 8,
      "outputs": []
    },
    {
      "cell_type": "code",
      "source": [
        "json_string = df.to_json(orient=\"records\")\n",
        "\n",
        "output = \"export default \" + json_string + \";\"\n",
        "f = open(\"app/data/people.js\", \"w\")\n",
        "f.write(output)\n",
        "f.close()"
      ],
      "metadata": {
        "id": "2f8ctWNhREJl",
        "outputId": "06103069-c4fe-4366-9bb5-bff3ae963efa",
        "colab": {
          "base_uri": "https://localhost:8080/",
          "height": 234
        }
      },
      "id": "2f8ctWNhREJl",
      "execution_count": null,
      "outputs": [
        {
          "output_type": "error",
          "ename": "FileNotFoundError",
          "evalue": "ignored",
          "traceback": [
            "\u001b[0;31m---------------------------------------------------------------------------\u001b[0m",
            "\u001b[0;31mFileNotFoundError\u001b[0m                         Traceback (most recent call last)",
            "\u001b[0;32m<ipython-input-11-a229af606e3f>\u001b[0m in \u001b[0;36m<module>\u001b[0;34m()\u001b[0m\n\u001b[1;32m      2\u001b[0m \u001b[0;34m\u001b[0m\u001b[0m\n\u001b[1;32m      3\u001b[0m \u001b[0moutput\u001b[0m \u001b[0;34m=\u001b[0m \u001b[0;34m\"export default \"\u001b[0m \u001b[0;34m+\u001b[0m \u001b[0mjson_string\u001b[0m \u001b[0;34m+\u001b[0m \u001b[0;34m\";\"\u001b[0m\u001b[0;34m\u001b[0m\u001b[0;34m\u001b[0m\u001b[0m\n\u001b[0;32m----> 4\u001b[0;31m \u001b[0mf\u001b[0m \u001b[0;34m=\u001b[0m \u001b[0mopen\u001b[0m\u001b[0;34m(\u001b[0m\u001b[0;34m\"app/data/people.js\"\u001b[0m\u001b[0;34m,\u001b[0m \u001b[0;34m\"w\"\u001b[0m\u001b[0;34m)\u001b[0m\u001b[0;34m\u001b[0m\u001b[0;34m\u001b[0m\u001b[0m\n\u001b[0m\u001b[1;32m      5\u001b[0m \u001b[0mf\u001b[0m\u001b[0;34m.\u001b[0m\u001b[0mwrite\u001b[0m\u001b[0;34m(\u001b[0m\u001b[0moutput\u001b[0m\u001b[0;34m)\u001b[0m\u001b[0;34m\u001b[0m\u001b[0;34m\u001b[0m\u001b[0m\n\u001b[1;32m      6\u001b[0m \u001b[0mf\u001b[0m\u001b[0;34m.\u001b[0m\u001b[0mclose\u001b[0m\u001b[0;34m(\u001b[0m\u001b[0;34m)\u001b[0m\u001b[0;34m\u001b[0m\u001b[0;34m\u001b[0m\u001b[0m\n",
            "\u001b[0;31mFileNotFoundError\u001b[0m: [Errno 2] No such file or directory: 'app/data/people.js'"
          ]
        }
      ]
    }
  ],
  "metadata": {
    "kernelspec": {
      "display_name": "Python 3",
      "language": "python",
      "name": "python3"
    },
    "language_info": {
      "codemirror_mode": {
        "name": "ipython",
        "version": 3
      },
      "file_extension": ".py",
      "mimetype": "text/x-python",
      "name": "python",
      "nbconvert_exporter": "python",
      "pygments_lexer": "ipython3",
      "version": "3.6.8"
    },
    "colab": {
      "name": "Rose Hall Data Wrangling.ipynb",
      "provenance": [],
      "include_colab_link": true
    }
  },
  "nbformat": 4,
  "nbformat_minor": 5
}