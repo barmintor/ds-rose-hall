{
  "cells": [
    {
      "cell_type": "markdown",
      "metadata": {
        "id": "view-in-github",
        "colab_type": "text"
      },
      "source": [
        "<a href=\"https://colab.research.google.com/github/un-silencing-slavery-at-rose-hall/project-website/blob/main/data/rose-hall-data-convert-from-excel.ipynb\" target=\"_parent\"><img src=\"https://colab.research.google.com/assets/colab-badge.svg\" alt=\"Open In Colab\"/></a>"
      ]
    },
    {
      "cell_type": "code",
      "execution_count": null,
      "id": "fc4afe4f",
      "metadata": {
        "id": "fc4afe4f"
      },
      "outputs": [],
      "source": [
        "import pandas as pd\n",
        "from numpy import nan"
      ]
    },
    {
      "cell_type": "code",
      "execution_count": null,
      "id": "70a7e258",
      "metadata": {
        "id": "70a7e258"
      },
      "outputs": [],
      "source": [
        "file_url = \"https://github.com/muziejus/rose-hall/blob/main/data/Comprehensive%20List%20of%20Enslaved%20People%20at%20Rose%20Hall%20Estate,%201817-1832.xlsx?raw=true\"\n",
        "# create a list of values prof. Naylor used as \"N/A\"\n",
        "na_values = [\"not_applicable\", \"not_specified\", \"--\", \" \"]\n",
        "# Read in Excel file.\n",
        "df = pd.read_excel(\n",
        "    file_url, \n",
        "    na_values=na_values)\n",
        "# create a new list of column names that are easier to type\n",
        "column_mapping = {\n",
        "    'personId': \"personId\", \n",
        "    'name': \"name\",\n",
        "    'otherNames': \"otherNames\",\n",
        "    'christianNames': \"christianNames\",\n",
        "    'familyNames': \"familyNames\",\n",
        "    'country': \"country\", \n",
        "    'color': \"color\", \n",
        "    'gender': \"gender\", \n",
        "    'age1817List': \"age1817List\",\n",
        "    'familyNotes': \"familyNotes\", \n",
        "    'mother': \"mother\", \n",
        "    'motherId': \"motherId\", \n",
        "    'grandmother': \"grandmother\",\n",
        "    'grandmotherId': \"grandmotherId\", \n",
        "    'greatgrandmother': \"greatgrandmother\", \n",
        "    'greatgrandmotherId': \"greatgrandmotherId\",\n",
        "    'comments': \"comments\", \n",
        "    'journalInfo': \"journalInfo\",\n",
        "    'age1817': \"age1817\", \n",
        "    'age1820': \"age1820\", \n",
        "    'age1823': \"age1823\",\n",
        "    'age1826': \"age1826\", \n",
        "    'age1829': \"age1829\", \n",
        "    'age1832': \"age1832\",\n",
        "    'age1832List': \"age1832List\",\n",
        "    'duties': \"duties\",\n",
        "    'condition': \"condition\",\n",
        "    'disposition': \"disposition\",\n",
        "    'valuation': \"valuation\",\n",
        "    'birthYear': \"birthYear\",\n",
        "    'arrivalYear': \"arrivalYear\",\n",
        "    'exitYear': \"exitYear\",\n",
        "    'ageAtExit': \"ageAtExit\",\n",
        "    'calcAgeDiff': None,\n",
        "    'arrivalReason': \"arrivalReason\",\n",
        "    'exitReason': \"exitReason\",\n",
        "    'dob': \"dob\",\n",
        "    'dod': \"dod\",\n",
        "    'Unnamed: 29': None, # Not needed\n",
        "    'Unnamed: 30': None,\n",
        "    'Unnamed: 31': None,\n",
        "    'Unnamed: 32': None,\n",
        "    'Unnamed: 33': None,\n",
        "    'Unnamed: 34': None,\n",
        "    'Unnamed: 35': None,\n",
        "    'Unnamed: 36': None,\n",
        "    'Unnamed: 37': None,\n",
        "    'Unnamed: 38': None,\n",
        "    'Unnamed: 39': None\n",
        "}\n",
        "columns = [c for c in column_mapping.keys() if column_mapping[c] != None]\n",
        "# Rename columns.\n",
        "df = df[columns].rename(columns=column_mapping)\n",
        "# Drop supplemental rows that include information prof. Naylor added that will break the website.\n",
        "df.drop([i for i in range(208,221)], inplace=True)"
      ]
    },
    {
      "cell_type": "code",
      "source": [
        "columns_to_strip = [\"name\", \"country\", \"color\", \"gender\", \"duties\"]\n",
        "for column in columns_to_strip:\n",
        "  df[column] = df[column].str.strip()"
      ],
      "metadata": {
        "id": "s0X0tU6xiPzJ"
      },
      "id": "s0X0tU6xiPzJ",
      "execution_count": null,
      "outputs": []
    },
    {
      "cell_type": "code",
      "source": [
        "def genderNan(x):\n",
        "  if x is nan:\n",
        "    return \"Unknown\"\n",
        "  else:\n",
        "    return x\n",
        "\n",
        "df[\"gender\"] = df[\"gender\"].apply(genderNan)"
      ],
      "metadata": {
        "id": "V8_qEyUNiPeH"
      },
      "id": "V8_qEyUNiPeH",
      "execution_count": null,
      "outputs": []
    },
    {
      "cell_type": "code",
      "source": [
        "def countryNan(x):\n",
        "  if x == \"Creole/African?\":\n",
        "    return \"Inconsistent\"\n",
        "  elif x is nan:\n",
        "    return \"Unknown\"\n",
        "  else:\n",
        "    return x\n",
        "\n",
        "df[\"country\"] = df[\"country\"].apply(countryNan)"
      ],
      "metadata": {
        "id": "NhBkBL-_iPT0"
      },
      "id": "NhBkBL-_iPT0",
      "execution_count": null,
      "outputs": []
    },
    {
      "cell_type": "code",
      "source": [
        "def colorNan(x):\n",
        "  if x == \"Negro/Sambo?\" or x == \"Sambo/Mulatto?\":\n",
        "    return \"Inconsistent\"\n",
        "  elif x is nan:\n",
        "    return \"Unknown\"\n",
        "  else:\n",
        "    return x\n",
        "\n",
        "df[\"color\"] = df[\"color\"].apply(colorNan)"
      ],
      "metadata": {
        "id": "bQFV99MWiPKF"
      },
      "id": "bQFV99MWiPKF",
      "execution_count": null,
      "outputs": []
    },
    {
      "cell_type": "code",
      "source": [
        "duties_dictionary = {'At Palmyra': \"Artisans and Specialists\",\n",
        " 'Attending Small Stock': \"Animal Caretakers\",\n",
        " 'Attending Young Children': \"Domestic Workers\",\n",
        " 'Blacksmith': \"Artisans and Specialists\",\n",
        " 'Carpenter': \"Artisans and Specialists\",\n",
        " 'Cartman': \"Artisans and Specialists\",\n",
        " 'Cartman and Field': \"Artisans and Specialists\",\n",
        " 'Cattleboy': \"Animal Caretakers\",\n",
        " 'Cook for gang': \"Domestic Workers\",\n",
        " 'Cooper': \"Artisans and Specialists\",\n",
        " 'Distiller': \"Artisans and Specialists\",\n",
        " 'Distiller and Field': \"Artisans and Specialists\",\n",
        " 'Domestic': \"Domestic Workers\",\n",
        " 'Driveress': \"Field Workers\",\n",
        " 'Field': \"Field Workers\",\n",
        " 'Field and Grasscutter': \"Field Workers\",\n",
        " 'Fisherman': \"Artisans and Specialists\",\n",
        " 'G.H. Attendant': \"Domestic Workers\",\n",
        " 'Grasscutter': \"Field Workers\",\n",
        " 'Head Boiler': \"Artisans and Specialists\",\n",
        " 'Head Carpenter': \"Artisans and Specialists\",\n",
        " 'Head Cartman': \"Artisans and Specialists\",\n",
        " 'Head Cooper': \"Artisans and Specialists\",\n",
        " 'Head Driver': \"Artisans and Specialists\",\n",
        " 'Head Penkeeper': \"Animal Caretakers\",\n",
        " 'Hogmeat Gang': \"Field Workers\",\n",
        " 'Hospital': \"Artisans and Specialists\",\n",
        " 'Hospital Attendant and Midwife': \"Artisans and Specialists\",\n",
        " 'Mason': \"Artisans and Specialists\",\n",
        " 'Muleman': \"Animal Caretakers\",\n",
        " 'Not at Work': \"“Not at Work”\",\n",
        " \"Overseer's Cook\": \"Domestic Workers\",\n",
        " \"Overseer's House\": \"Domestic Workers\",\n",
        " 'Second Driver': \"Artisans and Specialists\",\n",
        " 'Washerwoman': \"Domestic Workers\",\n",
        " 'Watchman': \"Artisans and Specialists\",\n",
        " 'With Mrs. Palmer': \"Domestic Workers\",\n",
        " nan: \"Unknown\"}\n",
        "\n",
        "df['duty_category'] = df['duties'].apply(lambda x: duties_dictionary[x])"
      ],
      "metadata": {
        "id": "30BfukbWiPAv"
      },
      "id": "30BfukbWiPAv",
      "execution_count": null,
      "outputs": []
    },
    {
      "cell_type": "code",
      "source": [
        "json_string = df.to_json(orient=\"records\")\n",
        "\n",
        "output = \"export default \" + json_string + \";\"\n",
        "f = open(\"app/data/people.js\", \"w\")\n",
        "f.write(output)\n",
        "f.close()"
      ],
      "metadata": {
        "id": "2f8ctWNhREJl",
        "outputId": "06103069-c4fe-4366-9bb5-bff3ae963efa",
        "colab": {
          "base_uri": "https://localhost:8080/",
          "height": 234
        }
      },
      "id": "2f8ctWNhREJl",
      "execution_count": null,
      "outputs": [
        {
          "output_type": "error",
          "ename": "FileNotFoundError",
          "evalue": "ignored",
          "traceback": [
            "\u001b[0;31m---------------------------------------------------------------------------\u001b[0m",
            "\u001b[0;31mFileNotFoundError\u001b[0m                         Traceback (most recent call last)",
            "\u001b[0;32m<ipython-input-11-a229af606e3f>\u001b[0m in \u001b[0;36m<module>\u001b[0;34m()\u001b[0m\n\u001b[1;32m      2\u001b[0m \u001b[0;34m\u001b[0m\u001b[0m\n\u001b[1;32m      3\u001b[0m \u001b[0moutput\u001b[0m \u001b[0;34m=\u001b[0m \u001b[0;34m\"export default \"\u001b[0m \u001b[0;34m+\u001b[0m \u001b[0mjson_string\u001b[0m \u001b[0;34m+\u001b[0m \u001b[0;34m\";\"\u001b[0m\u001b[0;34m\u001b[0m\u001b[0;34m\u001b[0m\u001b[0m\n\u001b[0;32m----> 4\u001b[0;31m \u001b[0mf\u001b[0m \u001b[0;34m=\u001b[0m \u001b[0mopen\u001b[0m\u001b[0;34m(\u001b[0m\u001b[0;34m\"app/data/people.js\"\u001b[0m\u001b[0;34m,\u001b[0m \u001b[0;34m\"w\"\u001b[0m\u001b[0;34m)\u001b[0m\u001b[0;34m\u001b[0m\u001b[0;34m\u001b[0m\u001b[0m\n\u001b[0m\u001b[1;32m      5\u001b[0m \u001b[0mf\u001b[0m\u001b[0;34m.\u001b[0m\u001b[0mwrite\u001b[0m\u001b[0;34m(\u001b[0m\u001b[0moutput\u001b[0m\u001b[0;34m)\u001b[0m\u001b[0;34m\u001b[0m\u001b[0;34m\u001b[0m\u001b[0m\n\u001b[1;32m      6\u001b[0m \u001b[0mf\u001b[0m\u001b[0;34m.\u001b[0m\u001b[0mclose\u001b[0m\u001b[0;34m(\u001b[0m\u001b[0;34m)\u001b[0m\u001b[0;34m\u001b[0m\u001b[0;34m\u001b[0m\u001b[0m\n",
            "\u001b[0;31mFileNotFoundError\u001b[0m: [Errno 2] No such file or directory: 'app/data/people.js'"
          ]
        }
      ]
    }
  ],
  "metadata": {
    "kernelspec": {
      "display_name": "Python 3",
      "language": "python",
      "name": "python3"
    },
    "language_info": {
      "codemirror_mode": {
        "name": "ipython",
        "version": 3
      },
      "file_extension": ".py",
      "mimetype": "text/x-python",
      "name": "python",
      "nbconvert_exporter": "python",
      "pygments_lexer": "ipython3",
      "version": "3.6.8"
    },
    "colab": {
      "name": "Rose Hall Data Wrangling.ipynb",
      "provenance": [],
      "include_colab_link": true
    }
  },
  "nbformat": 4,
  "nbformat_minor": 5
}